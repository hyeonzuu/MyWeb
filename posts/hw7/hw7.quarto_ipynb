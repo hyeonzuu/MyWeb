{
  "cells": [
    {
      "cell_type": "markdown",
      "metadata": {},
      "source": [
        "---\n",
        "title: \"hw7\"\n",
        "author: \"송현주\"\n",
        "date: \"2024-08-05\"\n",
        "categories: [bigdata]\n",
        "jupyter: python3\n",
        "---\n",
        "\n",
        "\n",
        "## 교재 57p 신형 자동차의 에너지 소비효율 등급\n",
        "\n",
        "### 패키지 불러오기\n"
      ],
      "id": "02e26e9c"
    },
    {
      "cell_type": "code",
      "metadata": {},
      "source": [
        "import numpy as np\n",
        "import pandas as pd\n",
        "import numpy as np\n",
        "from scipy.stats import norm\n",
        "from scipy.stats import t\n"
      ],
      "id": "9864aac6",
      "execution_count": null,
      "outputs": []
    },
    {
      "cell_type": "markdown",
      "metadata": {},
      "source": [
        "### 2. 검정을 위한 가설을 명확하게 서술하시오. \n",
        "\n",
        "H₀ = μ₀ >= 16\n",
        "\n",
        "\n",
        "## 3. 검정통계량을 계산하시오\n"
      ],
      "id": "c62524e1"
    },
    {
      "cell_type": "code",
      "metadata": {},
      "source": [
        "x = np.array([15.078, 15.752, 15.549, 15.56, 16.098, 13.277, 15.462, 16.116, 15.214, 16.93, 14.118, 14.927,\n",
        "15.382, 16.709, 16.804])\n",
        "n = 15\n",
        "x_bar = np.mean(x)\n",
        "x_std = np.std(x)\n",
        "t = (x_bar - 16) / (x_std / np.sqrt(15))\n",
        "t"
      ],
      "id": "1f6204c8",
      "execution_count": null,
      "outputs": []
    },
    {
      "cell_type": "markdown",
      "metadata": {},
      "source": [
        "###  4. p‑value을 구하세요\n"
      ],
      "id": "863b1945"
    },
    {
      "cell_type": "code",
      "metadata": {},
      "source": [
        "# 그래프 그리기\n",
        "p_value = norm.cdf(x_bar, loc=16, scale=(x_std / np.sqrt(15)))\n"
      ],
      "id": "b3687727",
      "execution_count": null,
      "outputs": []
    },
    {
      "cell_type": "markdown",
      "metadata": {},
      "source": [
        "### 6. 현대자동차의 신형 모델의 평균 복합 에너지 소비효율에 대하여 95% 신뢰구간을 구해보세요."
      ],
      "id": "f1175f6c"
    },
    {
      "cell_type": "code",
      "metadata": {},
      "source": [
        "se = np.std(x, ddof=1) / np.sqrt(n)\n",
        "round(x_bar - t.ppf(0.975, n-1) * se, 3)\n",
        "round(x_bar + t.ppf(0.975, n-1) * se, 3)"
      ],
      "id": "c1ab4831",
      "execution_count": null,
      "outputs": []
    }
  ],
  "metadata": {
    "kernelspec": {
      "name": "python3",
      "language": "python",
      "display_name": "Python 3 (ipykernel)",
      "path": "C:\\Users\\USER\\AppData\\Roaming\\Python\\share\\jupyter\\kernels\\python3"
    }
  },
  "nbformat": 4,
  "nbformat_minor": 5
}