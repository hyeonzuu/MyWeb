{
  "cells": [
    {
      "cell_type": "markdown",
      "metadata": {},
      "source": [
        "---\n",
        "title: \"hw6\"\n",
        "author: \"송현주\"\n",
        "date: \"2024-07-30\"\n",
        "categories: [bigdata]\n",
        "jupyter: python3\n",
        "---\n",
        "\n",
        "\n",
        "##  아래 그래프에서 각 성별 95% 신뢰구간 계산 후 그리기 위아래  수직 막대기로 표기\n",
        "### 패키지 불러오기\n"
      ],
      "id": "b8df4e4f"
    },
    {
      "cell_type": "code",
      "metadata": {},
      "source": [
        "import pandas as pd\n",
        "import numpy as np\n",
        "import seaborn as sns\n",
        "import matplotlib.pyplot as plt\n"
      ],
      "id": "9228b79b",
      "execution_count": null,
      "outputs": []
    },
    {
      "cell_type": "markdown",
      "metadata": {},
      "source": [
        "### 실습 코드\n"
      ],
      "id": "2b322fe8"
    },
    {
      "cell_type": "code",
      "metadata": {},
      "source": [
        "welfare = pd.read_spss(\"C:/Users/USER/Documents/LS빅데이터스쿨/LSBigdata_Project1/data/Koweps_hpwc14_2019_beta2.sav\")\n",
        "\n",
        "\n",
        "# 복사본 만들기\n",
        "raw_welfare = pd.DataFrame(welfare)\n",
        "\n",
        "welfare = raw_welfare.copy()\n",
        "\n",
        "welfare.shape\n",
        "welfare.info()\n",
        "welfare.describe()\n",
        "\n",
        "# rename\n",
        "welfare = welfare.rename(\n",
        "    columns={\"h14_g3\": \"sex\",\n",
        "            \"h14_g4\": \"birth\",\n",
        "            \"h14_g10\": \"marriage_type\",\n",
        "            \"h14_g11\": \"religion\",\n",
        "            \"p1402_8aq1\": \"income\",\n",
        "            \"h14_eco9\": \"code_job\",\n",
        "            \"h14_reg7\": \"code_region\" })\n",
        "\n",
        "welfare = welfare[[\"sex\", \"birth\", \"marriage_type\", \"religion\", \"income\", \"code_job\", \"code_region\"]]\n",
        "\n",
        "welfare.shape\n",
        "\n",
        "welfare[\"sex\"] = np.where(welfare[\"sex\"] == 1, \"male\", \"female\")\n",
        "welfare[\"sex\"].value_counts()\n",
        "\n",
        "\n",
        "welfare[\"income\"].dtypes\n",
        "welfare[\"income\"].describe()\n",
        "welfare[\"income\"].isna().sum()\n",
        "\n",
        "\n",
        "sex_income = welfare.dropna(subset=[\"income\"]) \\\n",
        "                    .groupby(\"sex\", as_index=False) \\\n",
        "                    .agg(mean_income=(\"income\", \"mean\"),\n",
        "                         std_income=(\"income\", \"std\"),\n",
        "                         count_income=(\"income\", \"count\"))\n",
        "\n",
        "\n",
        "sns.barplot(data = sex_income, x = \"sex\", y = \"mean_income\", hue = \"sex\")\n",
        "plt.show()\n",
        "plt.clf()"
      ],
      "id": "867bc5ad",
      "execution_count": null,
      "outputs": []
    },
    {
      "cell_type": "markdown",
      "metadata": {},
      "source": [
        "## 신뢰구간 구하기\n"
      ],
      "id": "fb20aa41"
    },
    {
      "cell_type": "code",
      "metadata": {},
      "source": [
        "import scipy.stats as stats\n",
        "\n",
        "sex_income['ci_lower'] = sex_income['mean_income'] - 1.96 * (sex_income['std_income'] / np.sqrt(sex_income['count_income']))\n",
        "sex_income['ci_lower']\n",
        "sex_income['ci_upper'] = sex_income['mean_income'] + 1.96* (sex_income['std_income'] / np.sqrt(sex_income['count_income']))\n",
        "sex_income['ci_upper']"
      ],
      "id": "71de3837",
      "execution_count": null,
      "outputs": []
    },
    {
      "cell_type": "markdown",
      "metadata": {},
      "source": [
        "### 그래프 그리기\n"
      ],
      "id": "f5383369"
    },
    {
      "cell_type": "code",
      "metadata": {},
      "source": [
        "# 그래프 그리기\n",
        "sns.barplot(data=welfare, x='sex', y='income', errorbar=('ci', 95), hue='sex')\n",
        "plt.xlabel('Sex')\n",
        "plt.ylabel('mean_income')\n",
        "plt.show()\n",
        "plt.clf()"
      ],
      "id": "fafd267a",
      "execution_count": null,
      "outputs": []
    }
  ],
  "metadata": {
    "kernelspec": {
      "name": "python3",
      "language": "python",
      "display_name": "Python 3 (ipykernel)",
      "path": "C:\\Users\\USER\\AppData\\Roaming\\Python\\share\\jupyter\\kernels\\python3"
    }
  },
  "nbformat": 4,
  "nbformat_minor": 5
}